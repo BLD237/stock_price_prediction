{
 "cells": [
  {
   "cell_type": "code",
   "execution_count": 55,
   "id": "20870630",
   "metadata": {},
   "outputs": [],
   "source": [
    "import yfinance as yf\n",
    "import pandas as pd\n",
    "import numpy as np\n",
    "import matplotlib.pyplot as plt\n",
    "from sklearn.preprocessing import MinMaxScaler\n",
    "from keras.models import Sequential\n",
    "from keras.layers import LSTM, Dense, Dropout\n",
    "from sklearn.metrics import accuracy_score, r2_score, mean_squared_error\n",
    "import tensorflow as tf\n"
   ]
  },
  {
   "cell_type": "code",
   "execution_count": 2,
   "id": "e428cd93",
   "metadata": {},
   "outputs": [
    {
     "data": {
      "application/vnd.microsoft.datawrangler.viewer.v0+json": {
       "columns": [
        {
         "name": "index",
         "rawType": "int64",
         "type": "integer"
        },
        {
         "name": "Unix",
         "rawType": "int64",
         "type": "integer"
        },
        {
         "name": "Date",
         "rawType": "datetime64[ns]",
         "type": "datetime"
        },
        {
         "name": "Symbol",
         "rawType": "object",
         "type": "string"
        },
        {
         "name": "Open",
         "rawType": "float64",
         "type": "float"
        },
        {
         "name": "High",
         "rawType": "float64",
         "type": "float"
        },
        {
         "name": "Low",
         "rawType": "float64",
         "type": "float"
        },
        {
         "name": "Close",
         "rawType": "float64",
         "type": "float"
        },
        {
         "name": "Volume",
         "rawType": "float64",
         "type": "float"
        },
        {
         "name": "Volume USDT",
         "rawType": "float64",
         "type": "float"
        },
        {
         "name": "tradecount",
         "rawType": "int64",
         "type": "integer"
        }
       ],
       "conversionMethod": "pd.DataFrame",
       "ref": "2c0cfd86-84cf-4cdf-9939-ff97e0adb3c3",
       "rows": [
        [
         "2799",
         "1502928000000",
         "2017-08-17 00:00:00",
         "BTCUSDT",
         "4261.48",
         "4485.39",
         "4200.74",
         "4285.08",
         "795.150377",
         "3454770.05073206",
         "3427"
        ],
        [
         "2798",
         "1503014400000",
         "2017-08-18 00:00:00",
         "BTCUSDT",
         "4285.08",
         "4371.52",
         "3938.77",
         "4108.37",
         "1199.888264",
         "5086958.30617151",
         "5233"
        ],
        [
         "2797",
         "1503100800000",
         "2017-08-19 00:00:00",
         "BTCUSDT",
         "4108.37",
         "4184.69",
         "3850.0",
         "4139.98",
         "381.309763",
         "1549483.73542151",
         "2153"
        ],
        [
         "2796",
         "1503187200000",
         "2017-08-20 00:00:00",
         "BTCUSDT",
         "4120.98",
         "4211.08",
         "4032.62",
         "4086.29",
         "467.083022",
         "1930364.39032646",
         "2321"
        ],
        [
         "2795",
         "1503273600000",
         "2017-08-21 00:00:00",
         "BTCUSDT",
         "4069.13",
         "4119.62",
         "3911.79",
         "4016.0",
         "691.74306",
         "2797231.71402728",
         "3972"
        ],
        [
         "2794",
         "1503360000000",
         "2017-08-22 00:00:00",
         "BTCUSDT",
         "4016.0",
         "4104.82",
         "3400.0",
         "4040.0",
         "966.684858",
         "3752505.77214051",
         "6494"
        ],
        [
         "2793",
         "1503446400000",
         "2017-08-23 00:00:00",
         "BTCUSDT",
         "4040.0",
         "4265.8",
         "4013.89",
         "4114.01",
         "1001.136565",
         "4148686.46581968",
         "8629"
        ],
        [
         "2792",
         "1503532800000",
         "2017-08-24 00:00:00",
         "BTCUSDT",
         "4147.0",
         "4371.68",
         "4085.01",
         "4316.01",
         "787.418753",
         "3296476.41316476",
         "6247"
        ],
        [
         "2791",
         "1503619200000",
         "2017-08-25 00:00:00",
         "BTCUSDT",
         "4316.01",
         "4453.91",
         "4247.48",
         "4280.68",
         "573.61274",
         "2484637.34936327",
         "6554"
        ],
        [
         "2790",
         "1503705600000",
         "2017-08-26 00:00:00",
         "BTCUSDT",
         "4280.71",
         "4367.0",
         "4212.41",
         "4337.44",
         "228.108068",
         "977865.7333321",
         "2260"
        ],
        [
         "2789",
         "1503792000000",
         "2017-08-27 00:00:00",
         "BTCUSDT",
         "4332.51",
         "4400.0",
         "4285.54",
         "4310.01",
         "350.692585",
         "1521580.06202557",
         "3670"
        ],
        [
         "2788",
         "1503878400000",
         "2017-08-28 00:00:00",
         "BTCUSDT",
         "4310.01",
         "4399.82",
         "4124.54",
         "4386.69",
         "603.841616",
         "2591660.52579953",
         "4349"
        ],
        [
         "2787",
         "1503964800000",
         "2017-08-29 00:00:00",
         "BTCUSDT",
         "4353.65",
         "4625.85",
         "4313.55",
         "4587.48",
         "603.545028",
         "2682483.73582991",
         "4159"
        ],
        [
         "2786",
         "1504051200000",
         "2017-08-30 00:00:00",
         "BTCUSDT",
         "4564.52",
         "4647.51",
         "4416.01",
         "4555.14",
         "808.468771",
         "3683714.68666123",
         "5551"
        ],
        [
         "2785",
         "1504137600000",
         "2017-08-31 00:00:00",
         "BTCUSDT",
         "4555.14",
         "4745.42",
         "4555.14",
         "4724.89",
         "556.956802",
         "2579878.72401184",
         "4161"
        ],
        [
         "2784",
         "1504224000000",
         "2017-09-01 00:00:00",
         "BTCUSDT",
         "4689.89",
         "4885.55",
         "4654.88",
         "4834.91",
         "560.666366",
         "2665165.55924616",
         "4000"
        ],
        [
         "2783",
         "1504310400000",
         "2017-09-02 00:00:00",
         "BTCUSDT",
         "4796.16",
         "4939.19",
         "4286.87",
         "4472.14",
         "929.148595",
         "4257723.944817",
         "7475"
        ],
        [
         "2782",
         "1504396800000",
         "2017-09-03 00:00:00",
         "BTCUSDT",
         "4508.5",
         "4714.76",
         "4298.33",
         "4509.08",
         "691.216198",
         "3121052.75230181",
         "6022"
        ],
        [
         "2781",
         "1504483200000",
         "2017-09-04 00:00:00",
         "BTCUSDT",
         "4505.0",
         "4527.49",
         "3972.51",
         "4100.11",
         "1394.644614",
         "5909947.49008974",
         "9317"
        ],
        [
         "2780",
         "1504569600000",
         "2017-09-05 00:00:00",
         "BTCUSDT",
         "4106.97",
         "4484.99",
         "3603.0",
         "4366.47",
         "1228.938157",
         "5083453.18675071",
         "10084"
        ],
        [
         "2779",
         "1504656000000",
         "2017-09-06 00:00:00",
         "BTCUSDT",
         "4366.49",
         "4662.87",
         "4335.26",
         "4619.77",
         "807.363726",
         "3626346.05544323",
         "7956"
        ],
        [
         "2778",
         "1504742400000",
         "2017-09-07 00:00:00",
         "BTCUSDT",
         "4619.77",
         "4788.59",
         "4438.19",
         "4691.61",
         "500.429975",
         "2305795.13638315",
         "3070"
        ],
        [
         "2777",
         "1504828800000",
         "2017-09-08 00:00:00",
         "BTCUSDT",
         "4691.66",
         "4735.39",
         "4028.93",
         "4282.8",
         "1132.255046",
         "4866527.22639337",
         "4733"
        ],
        [
         "2776",
         "1504915200000",
         "2017-09-09 00:00:00",
         "BTCUSDT",
         "4282.8",
         "4426.62",
         "4150.06",
         "4258.81",
         "658.782952",
         "2815383.46568698",
         "3777"
        ],
        [
         "2775",
         "1505001600000",
         "2017-09-10 00:00:00",
         "BTCUSDT",
         "4258.81",
         "4283.0",
         "3801.0",
         "4130.37",
         "660.373275",
         "2700371.80819211",
         "3435"
        ],
        [
         "2774",
         "1505088000000",
         "2017-09-11 00:00:00",
         "BTCUSDT",
         "4153.62",
         "4334.43",
         "4098.91",
         "4208.47",
         "699.989065",
         "2956842.76250147",
         "4228"
        ],
        [
         "2773",
         "1505174400000",
         "2017-09-12 00:00:00",
         "BTCUSDT",
         "4208.6",
         "4394.59",
         "4040.8",
         "4163.72",
         "879.630319",
         "3725190.62328952",
         "6501"
        ],
        [
         "2772",
         "1505260800000",
         "2017-09-13 00:00:00",
         "BTCUSDT",
         "4159.72",
         "4165.38",
         "3760.0",
         "3944.69",
         "913.462545",
         "3570365.92571669",
         "5019"
        ],
        [
         "2771",
         "1505347200000",
         "2017-09-14 00:00:00",
         "BTCUSDT",
         "3944.0",
         "3993.0",
         "3165.13",
         "3189.02",
         "1665.021543",
         "5914261.40460825",
         "9066"
        ],
        [
         "2770",
         "1505433600000",
         "2017-09-15 00:00:00",
         "BTCUSDT",
         "3188.01",
         "3856.0",
         "2817.0",
         "3700.0",
         "1968.866492",
         "6588767.18669446",
         "10445"
        ],
        [
         "2769",
         "1505520000000",
         "2017-09-16 00:00:00",
         "BTCUSDT",
         "3674.01",
         "3950.0",
         "3470.66",
         "3714.95",
         "1297.563953",
         "4804878.24721283",
         "8809"
        ],
        [
         "2768",
         "1505606400000",
         "2017-09-17 00:00:00",
         "BTCUSDT",
         "3685.23",
         "3748.21",
         "3499.02",
         "3699.99",
         "682.17121",
         "2466490.27859466",
         "6355"
        ],
        [
         "2767",
         "1505692800000",
         "2017-09-18 00:00:00",
         "BTCUSDT",
         "3690.0",
         "4123.2",
         "3690.0",
         "4035.01",
         "1030.006455",
         "4069033.05715863",
         "8220"
        ],
        [
         "2766",
         "1505779200000",
         "2017-09-19 00:00:00",
         "BTCUSDT",
         "4060.0",
         "4089.97",
         "3830.91",
         "3910.04",
         "902.332129",
         "3558315.19743872",
         "7342"
        ],
        [
         "2765",
         "1505865600000",
         "2017-09-20 00:00:00",
         "BTCUSDT",
         "3910.04",
         "4046.08",
         "3820.0",
         "3900.0",
         "720.935076",
         "2839584.45308804",
         "7231"
        ],
        [
         "2764",
         "1505952000000",
         "2017-09-21 00:00:00",
         "BTCUSDT",
         "3889.99",
         "3910.0",
         "3567.0",
         "3609.99",
         "1001.654084",
         "3757043.07821264",
         "8714"
        ],
        [
         "2763",
         "1506038400000",
         "2017-09-22 00:00:00",
         "BTCUSDT",
         "3592.84",
         "3750.0",
         "3505.55",
         "3595.87",
         "838.966425",
         "3031771.43292849",
         "8152"
        ],
        [
         "2762",
         "1506124800000",
         "2017-09-23 00:00:00",
         "BTCUSDT",
         "3595.88",
         "3817.19",
         "3542.91",
         "3780.0",
         "752.792791",
         "2799706.99951511",
         "8402"
        ],
        [
         "2761",
         "1506211200000",
         "2017-09-24 00:00:00",
         "BTCUSDT",
         "3779.54",
         "3789.99",
         "3622.76",
         "3660.02",
         "661.63639",
         "2445788.43620041",
         "8724"
        ],
        [
         "2760",
         "1506297600000",
         "2017-09-25 00:00:00",
         "BTCUSDT",
         "3660.02",
         "3979.87",
         "3653.69",
         "3920.75",
         "727.994713",
         "2784170.85318322",
         "9740"
        ],
        [
         "2759",
         "1506384000000",
         "2017-09-26 00:00:00",
         "BTCUSDT",
         "3928.0",
         "3976.99",
         "3850.05",
         "3882.35",
         "526.727987",
         "2061195.57868009",
         "7971"
        ],
        [
         "2758",
         "1506470400000",
         "2017-09-27 00:00:00",
         "BTCUSDT",
         "3882.36",
         "4249.94",
         "3872.81",
         "4193.0",
         "628.170966",
         "2554629.81447101",
         "8373"
        ],
        [
         "2757",
         "1506556800000",
         "2017-09-28 00:00:00",
         "BTCUSDT",
         "4192.11",
         "4300.0",
         "4101.0",
         "4174.5",
         "849.785325",
         "3553178.87037354",
         "11426"
        ],
        [
         "2756",
         "1506643200000",
         "2017-09-29 00:00:00",
         "BTCUSDT",
         "4178.98",
         "4263.86",
         "3952.01",
         "4174.69",
         "1602.309565",
         "6571746.35900076",
         "14834"
        ],
        [
         "2755",
         "1506729600000",
         "2017-09-30 00:00:00",
         "BTCUSDT",
         "4175.0",
         "4380.0",
         "4138.1",
         "4378.51",
         "720.353183",
         "3088354.40084536",
         "9324"
        ],
        [
         "2754",
         "1506816000000",
         "2017-10-01 00:00:00",
         "BTCUSDT",
         "4378.49",
         "4406.52",
         "4240.04",
         "4378.48",
         "726.963685",
         "3137143.89184457",
         "9816"
        ],
        [
         "2753",
         "1506902400000",
         "2017-10-02 00:00:00",
         "BTCUSDT",
         "4400.0",
         "4561.63",
         "4360.0",
         "4380.0",
         "655.756974",
         "2905282.77570845",
         "8185"
        ],
        [
         "2752",
         "1506988800000",
         "2017-10-03 00:00:00",
         "BTCUSDT",
         "4380.0",
         "4467.33",
         "4180.8",
         "4310.0",
         "1082.323563",
         "4627422.74283879",
         "12379"
        ],
        [
         "2751",
         "1507075200000",
         "2017-10-04 00:00:00",
         "BTCUSDT",
         "4314.9",
         "4373.0",
         "4142.0",
         "4208.59",
         "868.465101",
         "3676415.10054891",
         "11006"
        ],
        [
         "2750",
         "1507161600000",
         "2017-10-05 00:00:00",
         "BTCUSDT",
         "4208.59",
         "4355.0",
         "4110.0",
         "4292.43",
         "779.138638",
         "3295532.82397779",
         "9158"
        ]
       ],
       "shape": {
        "columns": 10,
        "rows": 2800
       }
      },
      "text/html": [
       "<div>\n",
       "<style scoped>\n",
       "    .dataframe tbody tr th:only-of-type {\n",
       "        vertical-align: middle;\n",
       "    }\n",
       "\n",
       "    .dataframe tbody tr th {\n",
       "        vertical-align: top;\n",
       "    }\n",
       "\n",
       "    .dataframe thead th {\n",
       "        text-align: right;\n",
       "    }\n",
       "</style>\n",
       "<table border=\"1\" class=\"dataframe\">\n",
       "  <thead>\n",
       "    <tr style=\"text-align: right;\">\n",
       "      <th></th>\n",
       "      <th>Unix</th>\n",
       "      <th>Date</th>\n",
       "      <th>Symbol</th>\n",
       "      <th>Open</th>\n",
       "      <th>High</th>\n",
       "      <th>Low</th>\n",
       "      <th>Close</th>\n",
       "      <th>Volume</th>\n",
       "      <th>Volume USDT</th>\n",
       "      <th>tradecount</th>\n",
       "    </tr>\n",
       "  </thead>\n",
       "  <tbody>\n",
       "    <tr>\n",
       "      <th>2799</th>\n",
       "      <td>1502928000000</td>\n",
       "      <td>2017-08-17</td>\n",
       "      <td>BTCUSDT</td>\n",
       "      <td>4261.48</td>\n",
       "      <td>4485.39</td>\n",
       "      <td>4200.74</td>\n",
       "      <td>4285.08</td>\n",
       "      <td>795.150377</td>\n",
       "      <td>3.454770e+06</td>\n",
       "      <td>3427</td>\n",
       "    </tr>\n",
       "    <tr>\n",
       "      <th>2798</th>\n",
       "      <td>1503014400000</td>\n",
       "      <td>2017-08-18</td>\n",
       "      <td>BTCUSDT</td>\n",
       "      <td>4285.08</td>\n",
       "      <td>4371.52</td>\n",
       "      <td>3938.77</td>\n",
       "      <td>4108.37</td>\n",
       "      <td>1199.888264</td>\n",
       "      <td>5.086958e+06</td>\n",
       "      <td>5233</td>\n",
       "    </tr>\n",
       "    <tr>\n",
       "      <th>2797</th>\n",
       "      <td>1503100800000</td>\n",
       "      <td>2017-08-19</td>\n",
       "      <td>BTCUSDT</td>\n",
       "      <td>4108.37</td>\n",
       "      <td>4184.69</td>\n",
       "      <td>3850.00</td>\n",
       "      <td>4139.98</td>\n",
       "      <td>381.309763</td>\n",
       "      <td>1.549484e+06</td>\n",
       "      <td>2153</td>\n",
       "    </tr>\n",
       "    <tr>\n",
       "      <th>2796</th>\n",
       "      <td>1503187200000</td>\n",
       "      <td>2017-08-20</td>\n",
       "      <td>BTCUSDT</td>\n",
       "      <td>4120.98</td>\n",
       "      <td>4211.08</td>\n",
       "      <td>4032.62</td>\n",
       "      <td>4086.29</td>\n",
       "      <td>467.083022</td>\n",
       "      <td>1.930364e+06</td>\n",
       "      <td>2321</td>\n",
       "    </tr>\n",
       "    <tr>\n",
       "      <th>2795</th>\n",
       "      <td>1503273600000</td>\n",
       "      <td>2017-08-21</td>\n",
       "      <td>BTCUSDT</td>\n",
       "      <td>4069.13</td>\n",
       "      <td>4119.62</td>\n",
       "      <td>3911.79</td>\n",
       "      <td>4016.00</td>\n",
       "      <td>691.743060</td>\n",
       "      <td>2.797232e+06</td>\n",
       "      <td>3972</td>\n",
       "    </tr>\n",
       "    <tr>\n",
       "      <th>...</th>\n",
       "      <td>...</td>\n",
       "      <td>...</td>\n",
       "      <td>...</td>\n",
       "      <td>...</td>\n",
       "      <td>...</td>\n",
       "      <td>...</td>\n",
       "      <td>...</td>\n",
       "      <td>...</td>\n",
       "      <td>...</td>\n",
       "      <td>...</td>\n",
       "    </tr>\n",
       "    <tr>\n",
       "      <th>4</th>\n",
       "      <td>1744416000000</td>\n",
       "      <td>2025-04-12</td>\n",
       "      <td>BTCUSDT</td>\n",
       "      <td>83423.83</td>\n",
       "      <td>85905.00</td>\n",
       "      <td>82792.95</td>\n",
       "      <td>85276.90</td>\n",
       "      <td>18470.744370</td>\n",
       "      <td>1.557403e+09</td>\n",
       "      <td>2501196</td>\n",
       "    </tr>\n",
       "    <tr>\n",
       "      <th>3</th>\n",
       "      <td>1744502400000</td>\n",
       "      <td>2025-04-13</td>\n",
       "      <td>BTCUSDT</td>\n",
       "      <td>85276.91</td>\n",
       "      <td>86100.00</td>\n",
       "      <td>83034.23</td>\n",
       "      <td>83760.00</td>\n",
       "      <td>24680.041810</td>\n",
       "      <td>2.086106e+09</td>\n",
       "      <td>3275879</td>\n",
       "    </tr>\n",
       "    <tr>\n",
       "      <th>2</th>\n",
       "      <td>1744588800000</td>\n",
       "      <td>2025-04-14</td>\n",
       "      <td>BTCUSDT</td>\n",
       "      <td>83760.00</td>\n",
       "      <td>85799.99</td>\n",
       "      <td>83678.00</td>\n",
       "      <td>84591.58</td>\n",
       "      <td>28659.093480</td>\n",
       "      <td>2.429133e+09</td>\n",
       "      <td>3921522</td>\n",
       "    </tr>\n",
       "    <tr>\n",
       "      <th>1</th>\n",
       "      <td>1744675200000</td>\n",
       "      <td>2025-04-15</td>\n",
       "      <td>BTCUSDT</td>\n",
       "      <td>84591.58</td>\n",
       "      <td>86496.42</td>\n",
       "      <td>83600.00</td>\n",
       "      <td>83643.99</td>\n",
       "      <td>20910.995280</td>\n",
       "      <td>1.780972e+09</td>\n",
       "      <td>2910533</td>\n",
       "    </tr>\n",
       "    <tr>\n",
       "      <th>0</th>\n",
       "      <td>1744761600000</td>\n",
       "      <td>2025-04-16</td>\n",
       "      <td>BTCUSDT</td>\n",
       "      <td>83643.99</td>\n",
       "      <td>85500.00</td>\n",
       "      <td>83111.64</td>\n",
       "      <td>84030.38</td>\n",
       "      <td>20867.245190</td>\n",
       "      <td>1.753910e+09</td>\n",
       "      <td>3264730</td>\n",
       "    </tr>\n",
       "  </tbody>\n",
       "</table>\n",
       "<p>2800 rows × 10 columns</p>\n",
       "</div>"
      ],
      "text/plain": [
       "               Unix       Date   Symbol      Open      High       Low  \\\n",
       "2799  1502928000000 2017-08-17  BTCUSDT   4261.48   4485.39   4200.74   \n",
       "2798  1503014400000 2017-08-18  BTCUSDT   4285.08   4371.52   3938.77   \n",
       "2797  1503100800000 2017-08-19  BTCUSDT   4108.37   4184.69   3850.00   \n",
       "2796  1503187200000 2017-08-20  BTCUSDT   4120.98   4211.08   4032.62   \n",
       "2795  1503273600000 2017-08-21  BTCUSDT   4069.13   4119.62   3911.79   \n",
       "...             ...        ...      ...       ...       ...       ...   \n",
       "4     1744416000000 2025-04-12  BTCUSDT  83423.83  85905.00  82792.95   \n",
       "3     1744502400000 2025-04-13  BTCUSDT  85276.91  86100.00  83034.23   \n",
       "2     1744588800000 2025-04-14  BTCUSDT  83760.00  85799.99  83678.00   \n",
       "1     1744675200000 2025-04-15  BTCUSDT  84591.58  86496.42  83600.00   \n",
       "0     1744761600000 2025-04-16  BTCUSDT  83643.99  85500.00  83111.64   \n",
       "\n",
       "         Close        Volume   Volume USDT  tradecount  \n",
       "2799   4285.08    795.150377  3.454770e+06        3427  \n",
       "2798   4108.37   1199.888264  5.086958e+06        5233  \n",
       "2797   4139.98    381.309763  1.549484e+06        2153  \n",
       "2796   4086.29    467.083022  1.930364e+06        2321  \n",
       "2795   4016.00    691.743060  2.797232e+06        3972  \n",
       "...        ...           ...           ...         ...  \n",
       "4     85276.90  18470.744370  1.557403e+09     2501196  \n",
       "3     83760.00  24680.041810  2.086106e+09     3275879  \n",
       "2     84591.58  28659.093480  2.429133e+09     3921522  \n",
       "1     83643.99  20910.995280  1.780972e+09     2910533  \n",
       "0     84030.38  20867.245190  1.753910e+09     3264730  \n",
       "\n",
       "[2800 rows x 10 columns]"
      ]
     },
     "execution_count": 2,
     "metadata": {},
     "output_type": "execute_result"
    }
   ],
   "source": [
    "df = pd.read_csv('btc.csv')\n",
    "df = df.sort_values(by='Date', ascending=True)\n",
    "df.Date = pd.to_datetime(df['Date'])\n",
    "df\n"
   ]
  },
  {
   "cell_type": "code",
   "execution_count": 3,
   "id": "1079b564",
   "metadata": {},
   "outputs": [
    {
     "name": "stderr",
     "output_type": "stream",
     "text": [
      "No artists with labels found to put in legend.  Note that artists whose label start with an underscore are ignored when legend() is called with no argument.\n"
     ]
    },
    {
     "data": {
      "image/png": "[encoded data removed]",
      "text/plain": [
       "<Figure size 1500x500 with 1 Axes>"
      ]
     },
     "metadata": {},
     "output_type": "display_data"
    }
   ],
   "source": [
    "plt.figure(figsize=(15, 5))\n",
    "plt.plot(df.Date, df.Close)\n",
    "plt.xlabel('Years')\n",
    "plt.ylabel('Closing Price')\n",
    "plt.tight_layout()\n",
    "plt.legend()\n",
    "plt.grid(True)\n",
    "plt.show()"
   ]
  },
  {
   "cell_type": "code",
   "execution_count": 39,
   "id": "2b0cfe53",
   "metadata": {},
   "outputs": [
    {
     "data": {
      "text/plain": [
       "array([[ 8700.01],\n",
       "       [ 9128.02],\n",
       "       [ 9650.  ],\n",
       "       ...,\n",
       "       [84591.58],\n",
       "       [83643.99],\n",
       "       [84030.38]])"
      ]
     },
     "execution_count": 39,
     "metadata": {},
     "output_type": "execute_result"
    }
   ],
   "source": [
    "close_price = df[['Close']]\n",
    "scaler = MinMaxScaler(feature_range=(0, 1))\n",
    "scaled_data = scaler.fit_transform(close_price)\n",
    "x_data = []\n",
    "y_data =  []\n",
    "for i in range(100, len(scaled_data)):\n",
    "    x_data.append(scaled_data[i-100:i])\n",
    "    y_data.append(scaled_data[i])\n",
    "x_data = np.array(x_data)\n",
    "y_data = np.array(y_data) \n",
    "scaler.inverse_transform(y_data)\n",
    "\n",
    "\n"
   ]
  },
  {
   "cell_type": "code",
   "execution_count": 40,
   "id": "28338718",
   "metadata": {},
   "outputs": [],
   "source": [
    "spltting_len = int(len(x_data)*0.8)\n",
    "x_train = x_data[:spltting_len]\n",
    "y_train= y_data[:spltting_len]\n",
    "\n",
    "x_test = x_data[spltting_len:]\n",
    "y_test = y_data[spltting_len:]\n",
    "\n",
    "\n"
   ]
  },
  {
   "cell_type": "code",
   "execution_count": 65,
   "id": "1a7ea6e0",
   "metadata": {},
   "outputs": [
    {
     "name": "stdout",
     "output_type": "stream",
     "text": [
      "Model: \"sequential_12\"\n",
      "_________________________________________________________________\n",
      " Layer (type)                Output Shape              Param #   \n",
      "=================================================================\n",
      " lstm_36 (LSTM)              (None, 100, 128)          66560     \n",
      "                                                                 \n",
      " lstm_37 (LSTM)              (None, 64)                49408     \n",
      "                                                                 \n",
      " dense_18 (Dense)            (None, 25)                1625      \n",
      "                                                                 \n",
      " dense_19 (Dense)            (None, 1)                 26        \n",
      "                                                                 \n",
      "=================================================================\n",
      "Total params: 117619 (459.45 KB)\n",
      "Trainable params: 117619 (459.45 KB)\n",
      "Non-trainable params: 0 (0.00 Byte)\n",
      "_________________________________________________________________\n"
     ]
    }
   ],
   "source": [
    "model = Sequential()\n",
    "model.add(LSTM(128, return_sequences=True, input_shape=(x_train.shape[1], 1)))\n",
    "model.add(LSTM(64, return_sequences=False))\n",
    "model.add(Dense(25))\n",
    "model.add(Dense(1))\n",
    "model.compile(optimizer='adam', loss='mean_squared_error')\n",
    "model.summary()\n"
   ]
  },
  {
   "cell_type": "code",
   "execution_count": 72,
   "id": "ced91663",
   "metadata": {},
   "outputs": [
    {
     "name": "stdout",
     "output_type": "stream",
     "text": [
      "Epoch 1/2\n",
      "1080/1080 [==============================] - 62s 57ms/step - loss: 1.8178e-04\n",
      "Epoch 2/2\n",
      "1080/1080 [==============================] - 61s 56ms/step - loss: 1.8720e-04\n"
     ]
    },
    {
     "data": {
      "text/plain": [
       "<keras.src.callbacks.History at 0x2760fecf3a0>"
      ]
     },
     "execution_count": 72,
     "metadata": {},
     "output_type": "execute_result"
    }
   ],
   "source": [
    "model.fit(x_train, y_train, batch_size=2, epochs=2)\n",
    "# model = tf.keras.models.load_model('model.h5')\n",
    " "
   ]
  },
  {
   "cell_type": "markdown",
   "id": "4a58a023",
   "metadata": {},
   "source": [
    "### predictions for model version 0.1"
   ]
  },
  {
   "cell_type": "code",
   "execution_count": 78,
   "id": "67dd9de9",
   "metadata": {},
   "outputs": [
    {
     "name": "stdout",
     "output_type": "stream",
     "text": [
      "17/17 [==============================] - 1s 40ms/step\n"
     ]
    },
    {
     "data": {
      "image/png": "[encoded data removed]",
      "text/plain": [
       "<Figure size 640x480 with 1 Axes>"
      ]
     },
     "metadata": {},
     "output_type": "display_data"
    },
    {
     "name": "stdout",
     "output_type": "stream",
     "text": [
      "R2 score :  99.02249554286222\n"
     ]
    }
   ],
   "source": [
    "predictiorns = model.predict(x_test)\n",
    "inv_predictiorns = scaler.inverse_transform(predictiorns)\n",
    "inv_ytest =  scaler.inverse_transform(y_test)\n",
    "r2 =  r2_score(inv_ytest, inv_predictiorns)\n",
    "plotting_data = pd.DataFrame(\n",
    "    {\n",
    "        'original':inv_ytest.reshape(-1),\n",
    "        'predictions':inv_predictiorns.reshape(-1)\n",
    "    },\n",
    "    \n",
    ")\n",
    "plotting_data.plot()\n",
    "plt.show()\n",
    "print('R2 score : ' ,r2*100)\n",
    "\n"
   ]
  },
  {
   "cell_type": "code",
   "execution_count": null,
   "id": "63e130b7",
   "metadata": {},
   "outputs": [
    {
     "name": "stderr",
     "output_type": "stream",
     "text": [
      "c:\\Users\\mufor\\AppData\\Local\\Programs\\Python\\Python38\\lib\\site-packages\\keras\\src\\engine\\training.py:3000: UserWarning: You are saving your model as an HDF5 file via `model.save()`. This file format is considered legacy. We recommend using instead the native Keras format, e.g. `model.save('my_model.keras')`.\n",
      "  saving_api.save_model(\n"
     ]
    }
   ],
   "source": [
    "model.save('models/model_v0.1.h5')"
   ]
  }
 ],
 "metadata": {
  "kernelspec": {
   "display_name": "Python 3",
   "language": "python",
   "name": "python3"
  },
  "language_info": {
   "codemirror_mode": {
    "name": "ipython",
    "version": 3
   },
   "file_extension": ".py",
   "mimetype": "text/x-python",
   "name": "python",
   "nbconvert_exporter": "python",
   "pygments_lexer": "ipython3",
   "version": "3.8.0"
  }
 },
 "nbformat": 4,
 "nbformat_minor": 5
}
